{
 "cells": [
  {
   "cell_type": "code",
   "execution_count": 3,
   "metadata": {
    "collapsed": true
   },
   "outputs": [],
   "source": [
    "a = 3\n",
    "b = 17\n",
    "\n",
    "c = a + b "
   ]
  },
  {
   "cell_type": "code",
   "execution_count": 4,
   "metadata": {
    "collapsed": false
   },
   "outputs": [
    {
     "name": "stdout",
     "output_type": "stream",
     "text": [
      "20\n"
     ]
    }
   ],
   "source": [
    "print (c)"
   ]
  },
  {
   "cell_type": "code",
   "execution_count": 5,
   "metadata": {
    "collapsed": false
   },
   "outputs": [
    {
     "name": "stdout",
     "output_type": "stream",
     "text": [
      "3\n"
     ]
    }
   ],
   "source": [
    "print (a)"
   ]
  },
  {
   "cell_type": "code",
   "execution_count": 6,
   "metadata": {
    "collapsed": false
   },
   "outputs": [
    {
     "name": "stdout",
     "output_type": "stream",
     "text": [
      "17\n"
     ]
    }
   ],
   "source": [
    "print (b)"
   ]
  },
  {
   "cell_type": "code",
   "execution_count": 14,
   "metadata": {
    "collapsed": true
   },
   "outputs": [],
   "source": [
    "favorite_animal = \"grizzly bear\""
   ]
  },
  {
   "cell_type": "code",
   "execution_count": 15,
   "metadata": {
    "collapsed": false
   },
   "outputs": [
    {
     "data": {
      "text/plain": [
       "'grizzly bear'"
      ]
     },
     "execution_count": 15,
     "metadata": {},
     "output_type": "execute_result"
    }
   ],
   "source": [
    "favorite_animal"
   ]
  },
  {
   "cell_type": "code",
   "execution_count": 16,
   "metadata": {
    "collapsed": true
   },
   "outputs": [],
   "source": [
    "favorite_dinners = [\"Pizza\", \"Enchiladas\", \"Mole\"]"
   ]
  },
  {
   "cell_type": "code",
   "execution_count": 17,
   "metadata": {
    "collapsed": false
   },
   "outputs": [
    {
     "data": {
      "text/plain": [
       "['Pizza', 'Enchiladas', 'Mole']"
      ]
     },
     "execution_count": 17,
     "metadata": {},
     "output_type": "execute_result"
    }
   ],
   "source": [
    "favorite_dinners"
   ]
  },
  {
   "cell_type": "code",
   "execution_count": 5,
   "metadata": {
    "collapsed": true
   },
   "outputs": [],
   "source": [
    "num_fav_dinners = [\"Pizza\", \"Enchiladas\", \"Mole\"]"
   ]
  },
  {
   "cell_type": "code",
   "execution_count": 7,
   "metadata": {
    "collapsed": false
   },
   "outputs": [
    {
     "data": {
      "text/plain": [
       "3"
      ]
     },
     "execution_count": 7,
     "metadata": {},
     "output_type": "execute_result"
    }
   ],
   "source": [
    "len(num_fav_dinners)"
   ]
  },
  {
   "cell_type": "code",
   "execution_count": 54,
   "metadata": {
    "collapsed": false,
    "scrolled": true
   },
   "outputs": [
    {
     "name": "stdout",
     "output_type": "stream",
     "text": [
      "Error, please choose a number\n"
     ]
    }
   ],
   "source": [
    "def hw3_function(number):\n",
    "    if (type(number)==int):\n",
    "        if (number<5):\n",
    "            return print(\"Brr! It's cold!\")\n",
    "        elif (number>25):\n",
    "            return print(\"It's pretty warm!\")\n",
    "        else: \n",
    "            return print(\"What a pleasent temperature\")\n",
    "    else:\n",
    "        return print(\"Error, please choose a number\")\n",
    "    \n",
    "hw3_function(\"h\")"
   ]
  },
  {
   "cell_type": "code",
   "execution_count": null,
   "metadata": {
    "collapsed": false
   },
   "outputs": [
    {
     "name": "stdout",
     "output_type": "stream",
     "text": [
      "Please select: \n",
      "1 rock\n",
      "2 paper\n",
      "3 scissors\n"
     ]
    }
   ],
   "source": [
    "import random \n",
    "\n",
    "rock, paper, scissors = 1, 2, 3\n",
    "names = 'rock', 'paper', 'scissors'\n",
    "\n",
    "def beats(a, b):\n",
    "    if (a,b) in ((rock, paper), (paper, scissors), (scissors, rock)):\n",
    "        return False\n",
    "    \n",
    "    return True\n",
    "\n",
    "print(\"Please select: \")\n",
    "print(\"1 rock\")\n",
    "print(\"2 paper\")\n",
    "print(\"3 scissors\")\n",
    "\n",
    "player = int(input (\"Choose from 1-3: \"))\n",
    "computer = random.choice((rock, paper, scissors))\n",
    "\n",
    "if computer != player:\n",
    "    if beats(player, cpu):\n",
    "        print(\"+1 for player\")\n",
    "    else:\n",
    "        print(\"+1 for computer\")\n",
    "else:\n",
    "    print(\"this is a tie!\")\n",
    "    \n",
    "print(names[player-1], \"vs\", names[computer-1])\n",
    "\n",
    "2"
   ]
  },
  {
   "cell_type": "code",
   "execution_count": 16,
   "metadata": {
    "collapsed": true
   },
   "outputs": [],
   "source": [
    "DNA = \"ATAATTAACGGAGCTTATTA\""
   ]
  },
  {
   "cell_type": "code",
   "execution_count": 17,
   "metadata": {
    "collapsed": false
   },
   "outputs": [
    {
     "name": "stdout",
     "output_type": "stream",
     "text": [
      "not solved!\n"
     ]
    }
   ],
   "source": [
    "if re.search(r\"G(A|T)(A|T)G(A|T|G|C)\", DNA):\n",
    "    print (\"you solved it!\")\n",
    "else:\n",
    "    print (\"not solved!\")"
   ]
  },
  {
   "cell_type": "code",
   "execution_count": null,
   "metadata": {
    "collapsed": true
   },
   "outputs": [],
   "source": []
  }
 ],
 "metadata": {
  "anaconda-cloud": {},
  "kernelspec": {
   "display_name": "Python [default]",
   "language": "python",
   "name": "python3"
  },
  "language_info": {
   "codemirror_mode": {
    "name": "ipython",
    "version": 3
   },
   "file_extension": ".py",
   "mimetype": "text/x-python",
   "name": "python",
   "nbconvert_exporter": "python",
   "pygments_lexer": "ipython3",
   "version": "3.5.2"
  }
 },
 "nbformat": 4,
 "nbformat_minor": 2
}
